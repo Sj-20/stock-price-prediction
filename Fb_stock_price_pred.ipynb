{
  "nbformat": 4,
  "nbformat_minor": 0,
  "metadata": {
    "colab": {
      "name": "Fb stock price pred.ipynb",
      "provenance": [],
      "authorship_tag": "ABX9TyMnnZFPVwwACIPLEXISRrEn",
      "include_colab_link": true
    },
    "kernelspec": {
      "name": "python3",
      "display_name": "Python 3"
    }
  },
  "cells": [
    {
      "cell_type": "markdown",
      "metadata": {
        "id": "view-in-github",
        "colab_type": "text"
      },
      "source": [
        "<a href=\"https://colab.research.google.com/github/Sj-20/stock-price-prediction/blob/main/Fb_stock_price_pred.ipynb\" target=\"_parent\"><img src=\"https://colab.research.google.com/assets/colab-badge.svg\" alt=\"Open In Colab\"/></a>"
      ]
    },
    {
      "cell_type": "markdown",
      "metadata": {
        "id": "HKQS3dua89-Y"
      },
      "source": [
        "Import necessary libraries"
      ]
    },
    {
      "cell_type": "code",
      "metadata": {
        "id": "R0tt9zDir0DL"
      },
      "source": [
        "import math"
      ],
      "execution_count": null,
      "outputs": []
    },
    {
      "cell_type": "code",
      "metadata": {
        "id": "pZB87zbi6OHf"
      },
      "source": [
        "import pandas_datareader as web\r\n",
        "import numpy as np\r\n",
        "import pandas as pd\r\n",
        "from sklearn.preprocessing import MinMaxScaler\r\n",
        "from keras.models import Sequential \r\n",
        "from keras.layers import Dense, LSTM\r\n"
      ],
      "execution_count": null,
      "outputs": []
    },
    {
      "cell_type": "code",
      "metadata": {
        "id": "xmSFEd_k6tSr"
      },
      "source": [
        "import matplotlib.pyplot as plt \r\n",
        "plt.style.use('fivethirtyeight')"
      ],
      "execution_count": null,
      "outputs": []
    },
    {
      "cell_type": "markdown",
      "metadata": {
        "id": "ut4k1CpR9Dj2"
      },
      "source": [
        "Getting the stock quote and showing the data"
      ]
    },
    {
      "cell_type": "code",
      "metadata": {
        "colab": {
          "base_uri": "https://localhost:8080/",
          "height": 446
        },
        "id": "fR3jOvg27T6d",
        "outputId": "00909abf-422b-4f84-de74-30679d523462"
      },
      "source": [
        "df= web.DataReader('FB',data_source='yahoo',start='2012-01-01',end='2020-12-12')\r\n",
        "df"
      ],
      "execution_count": null,
      "outputs": [
        {
          "output_type": "execute_result",
          "data": {
            "text/html": [
              "<div>\n",
              "<style scoped>\n",
              "    .dataframe tbody tr th:only-of-type {\n",
              "        vertical-align: middle;\n",
              "    }\n",
              "\n",
              "    .dataframe tbody tr th {\n",
              "        vertical-align: top;\n",
              "    }\n",
              "\n",
              "    .dataframe thead th {\n",
              "        text-align: right;\n",
              "    }\n",
              "</style>\n",
              "<table border=\"1\" class=\"dataframe\">\n",
              "  <thead>\n",
              "    <tr style=\"text-align: right;\">\n",
              "      <th></th>\n",
              "      <th>High</th>\n",
              "      <th>Low</th>\n",
              "      <th>Open</th>\n",
              "      <th>Close</th>\n",
              "      <th>Volume</th>\n",
              "      <th>Adj Close</th>\n",
              "    </tr>\n",
              "    <tr>\n",
              "      <th>Date</th>\n",
              "      <th></th>\n",
              "      <th></th>\n",
              "      <th></th>\n",
              "      <th></th>\n",
              "      <th></th>\n",
              "      <th></th>\n",
              "    </tr>\n",
              "  </thead>\n",
              "  <tbody>\n",
              "    <tr>\n",
              "      <th>2012-05-18</th>\n",
              "      <td>45.000000</td>\n",
              "      <td>38.000000</td>\n",
              "      <td>42.049999</td>\n",
              "      <td>38.230000</td>\n",
              "      <td>573576400</td>\n",
              "      <td>38.230000</td>\n",
              "    </tr>\n",
              "    <tr>\n",
              "      <th>2012-05-21</th>\n",
              "      <td>36.660000</td>\n",
              "      <td>33.000000</td>\n",
              "      <td>36.529999</td>\n",
              "      <td>34.029999</td>\n",
              "      <td>168192700</td>\n",
              "      <td>34.029999</td>\n",
              "    </tr>\n",
              "    <tr>\n",
              "      <th>2012-05-22</th>\n",
              "      <td>33.590000</td>\n",
              "      <td>30.940001</td>\n",
              "      <td>32.610001</td>\n",
              "      <td>31.000000</td>\n",
              "      <td>101786600</td>\n",
              "      <td>31.000000</td>\n",
              "    </tr>\n",
              "    <tr>\n",
              "      <th>2012-05-23</th>\n",
              "      <td>32.500000</td>\n",
              "      <td>31.360001</td>\n",
              "      <td>31.370001</td>\n",
              "      <td>32.000000</td>\n",
              "      <td>73600000</td>\n",
              "      <td>32.000000</td>\n",
              "    </tr>\n",
              "    <tr>\n",
              "      <th>2012-05-24</th>\n",
              "      <td>33.209999</td>\n",
              "      <td>31.770000</td>\n",
              "      <td>32.950001</td>\n",
              "      <td>33.029999</td>\n",
              "      <td>50237200</td>\n",
              "      <td>33.029999</td>\n",
              "    </tr>\n",
              "    <tr>\n",
              "      <th>...</th>\n",
              "      <td>...</td>\n",
              "      <td>...</td>\n",
              "      <td>...</td>\n",
              "      <td>...</td>\n",
              "      <td>...</td>\n",
              "      <td>...</td>\n",
              "    </tr>\n",
              "    <tr>\n",
              "      <th>2020-12-07</th>\n",
              "      <td>288.489990</td>\n",
              "      <td>278.200012</td>\n",
              "      <td>279.190002</td>\n",
              "      <td>285.579987</td>\n",
              "      <td>13007700</td>\n",
              "      <td>285.579987</td>\n",
              "    </tr>\n",
              "    <tr>\n",
              "      <th>2020-12-08</th>\n",
              "      <td>286.429993</td>\n",
              "      <td>281.549988</td>\n",
              "      <td>286.010010</td>\n",
              "      <td>283.399994</td>\n",
              "      <td>10747700</td>\n",
              "      <td>283.399994</td>\n",
              "    </tr>\n",
              "    <tr>\n",
              "      <th>2020-12-09</th>\n",
              "      <td>287.630005</td>\n",
              "      <td>271.750000</td>\n",
              "      <td>283.660004</td>\n",
              "      <td>277.920013</td>\n",
              "      <td>25189700</td>\n",
              "      <td>277.920013</td>\n",
              "    </tr>\n",
              "    <tr>\n",
              "      <th>2020-12-10</th>\n",
              "      <td>278.730011</td>\n",
              "      <td>271.859985</td>\n",
              "      <td>275.540009</td>\n",
              "      <td>277.119995</td>\n",
              "      <td>20065100</td>\n",
              "      <td>277.119995</td>\n",
              "    </tr>\n",
              "    <tr>\n",
              "      <th>2020-12-11</th>\n",
              "      <td>276.480011</td>\n",
              "      <td>270.250000</td>\n",
              "      <td>274.529999</td>\n",
              "      <td>273.549988</td>\n",
              "      <td>14378800</td>\n",
              "      <td>273.549988</td>\n",
              "    </tr>\n",
              "  </tbody>\n",
              "</table>\n",
              "<p>2157 rows × 6 columns</p>\n",
              "</div>"
            ],
            "text/plain": [
              "                  High         Low  ...     Volume   Adj Close\n",
              "Date                                ...                       \n",
              "2012-05-18   45.000000   38.000000  ...  573576400   38.230000\n",
              "2012-05-21   36.660000   33.000000  ...  168192700   34.029999\n",
              "2012-05-22   33.590000   30.940001  ...  101786600   31.000000\n",
              "2012-05-23   32.500000   31.360001  ...   73600000   32.000000\n",
              "2012-05-24   33.209999   31.770000  ...   50237200   33.029999\n",
              "...                ...         ...  ...        ...         ...\n",
              "2020-12-07  288.489990  278.200012  ...   13007700  285.579987\n",
              "2020-12-08  286.429993  281.549988  ...   10747700  283.399994\n",
              "2020-12-09  287.630005  271.750000  ...   25189700  277.920013\n",
              "2020-12-10  278.730011  271.859985  ...   20065100  277.119995\n",
              "2020-12-11  276.480011  270.250000  ...   14378800  273.549988\n",
              "\n",
              "[2157 rows x 6 columns]"
            ]
          },
          "metadata": {
            "tags": []
          },
          "execution_count": 52
        }
      ]
    },
    {
      "cell_type": "markdown",
      "metadata": {
        "id": "TaDlU5_F9NNR"
      },
      "source": [
        "Getting number of rows and columns in dataset"
      ]
    },
    {
      "cell_type": "code",
      "metadata": {
        "colab": {
          "base_uri": "https://localhost:8080/"
        },
        "id": "U0N6UTQh8u1u",
        "outputId": "6c769713-225f-45e3-d20d-58d6eb0ec979"
      },
      "source": [
        "df.shape\r\n"
      ],
      "execution_count": null,
      "outputs": [
        {
          "output_type": "execute_result",
          "data": {
            "text/plain": [
              "(2157, 6)"
            ]
          },
          "metadata": {
            "tags": []
          },
          "execution_count": 53
        }
      ]
    },
    {
      "cell_type": "markdown",
      "metadata": {
        "id": "jfeH-7A09eCN"
      },
      "source": [
        "Visualize closing price history"
      ]
    },
    {
      "cell_type": "code",
      "metadata": {
        "colab": {
          "base_uri": "https://localhost:8080/",
          "height": 537
        },
        "id": "Wqx-OkB69hW0",
        "outputId": "8aadf3c8-5c94-4c48-9182-eb110baa679f"
      },
      "source": [
        "plt.figure(figsize=(16,8))\r\n",
        "plt.plot(df['Close'])\r\n",
        "plt.xlabel('Date',fontsize=18)\r\n",
        "plt.ylabel('Close Price USD($)',fontsize=18)\r\n",
        "plt.show()"
      ],
      "execution_count": null,
      "outputs": [
        {
          "output_type": "display_data",
          "data": {
            "image/png": "[encoded data removed]",
            "text/plain": [
              "<Figure size 1152x576 with 1 Axes>"
            ]
          },
          "metadata": {
            "tags": []
          }
        }
      ]
    },
    {
      "cell_type": "markdown",
      "metadata": {
        "id": "okiLPpIwBjGH"
      },
      "source": [
        "Create new dataframe with only 'Close column'\r\n"
      ]
    },
    {
      "cell_type": "code",
      "metadata": {
        "id": "IYNu1ftVB4Z-"
      },
      "source": [
        "data=df.filter(['Close'])"
      ],
      "execution_count": null,
      "outputs": []
    },
    {
      "cell_type": "markdown",
      "metadata": {
        "id": "k6jT6ZeDCIZP"
      },
      "source": [
        "Convert the dataframe to a numpy array\r\n",
        "\r\n"
      ]
    },
    {
      "cell_type": "code",
      "metadata": {
        "id": "oH7Lqck-COh2"
      },
      "source": [
        "ds=data.values"
      ],
      "execution_count": null,
      "outputs": []
    },
    {
      "cell_type": "markdown",
      "metadata": {
        "id": "u2WD0PtUCZAe"
      },
      "source": [
        "Getting number of rows to train the model on"
      ]
    },
    {
      "cell_type": "code",
      "metadata": {
        "colab": {
          "base_uri": "https://localhost:8080/"
        },
        "id": "n6Y6mqzBCdVI",
        "outputId": "cb55c2a6-0b68-4560-ef5c-5a38b2459cfa"
      },
      "source": [
        "training_data_len= math.ceil (len(ds) * .8)\r\n",
        "training_data_len"
      ],
      "execution_count": null,
      "outputs": [
        {
          "output_type": "execute_result",
          "data": {
            "text/plain": [
              "1726"
            ]
          },
          "metadata": {
            "tags": []
          },
          "execution_count": 57
        }
      ]
    },
    {
      "cell_type": "markdown",
      "metadata": {
        "id": "ZJDM34f9DBFO"
      },
      "source": [
        "Scale or normalize the data"
      ]
    },
    {
      "cell_type": "code",
      "metadata": {
        "colab": {
          "base_uri": "https://localhost:8080/"
        },
        "id": "h8OWnksBDCTI",
        "outputId": "4bd105ca-4f71-4f8e-882c-f612b60a0b28"
      },
      "source": [
        "sclr=MinMaxScaler(feature_range=(0,1))\r\n",
        "scaled_data=sclr.fit_transform(ds)\r\n",
        "scaled_data"
      ],
      "execution_count": null,
      "outputs": [
        {
          "output_type": "execute_result",
          "data": {
            "text/plain": [
              "array([[0.07163324],\n",
              "       [0.05695716],\n",
              "       [0.04636942],\n",
              "       ...,\n",
              "       [0.90918307],\n",
              "       [0.90638756],\n",
              "       [0.89391287]])"
            ]
          },
          "metadata": {
            "tags": []
          },
          "execution_count": 58
        }
      ]
    },
    {
      "cell_type": "markdown",
      "metadata": {
        "id": "3BFOPSSXD3mR"
      },
      "source": [
        "Create training dataset\r\n",
        "Split the data into x_train and y_train"
      ]
    },
    {
      "cell_type": "code",
      "metadata": {
        "id": "BArG6a_iD8Ch"
      },
      "source": [
        "train_data=scaled_data[0:training_data_len,:]\r\n",
        "x_train=[]\r\n",
        "y_train=[]\r\n",
        "\r\n",
        "for i in range (60,len(train_data)):\r\n",
        "  x_train.append(train_data[i-60:i,0])\r\n",
        "  y_train.append(train_data[i,0])\r\n",
        "  if i<=61:\r\n",
        "    print(x_train)\r\n",
        "    print(y_train)\r\n",
        "    print()"
      ],
      "execution_count": null,
      "outputs": []
    },
    {
      "cell_type": "markdown",
      "metadata": {
        "id": "tIC4Ub86ttRa"
      },
      "source": [
        "Convert x_train and y_train into numpy arrays"
      ]
    },
    {
      "cell_type": "code",
      "metadata": {
        "id": "yb24MMzity47"
      },
      "source": [
        "x_train,y_train=np.array(x_train),np.array(y_train)"
      ],
      "execution_count": null,
      "outputs": []
    },
    {
      "cell_type": "markdown",
      "metadata": {
        "id": "scktN18oua1C"
      },
      "source": [
        "Reshape the data"
      ]
    },
    {
      "cell_type": "code",
      "metadata": {
        "id": "wp1Hjp_yunMy"
      },
      "source": [
        "x_train=np.reshape(x_train,(x_train.shape[0],x_train.shape[1],1))\r\n",
        "x_train.shape"
      ],
      "execution_count": null,
      "outputs": []
    },
    {
      "cell_type": "markdown",
      "metadata": {
        "id": "XnWxofblvkGL"
      },
      "source": [
        "Building LSTM model"
      ]
    },
    {
      "cell_type": "code",
      "metadata": {
        "id": "rd--uLgFv41p"
      },
      "source": [
        "stckmodel=Sequential()\r\n",
        "stckmodel.add(LSTM(50,return_sequences=True,input_shape=(x_train.shape[1],1)))\r\n",
        "stckmodel.add(LSTM(50,return_sequences=False))\r\n",
        "stckmodel.add(Dense(25))\r\n",
        "stckmodel.add(Dense(1))"
      ],
      "execution_count": null,
      "outputs": []
    },
    {
      "cell_type": "markdown",
      "metadata": {
        "id": "EXIZpppuxU3k"
      },
      "source": [
        "Compile the model"
      ]
    },
    {
      "cell_type": "code",
      "metadata": {
        "id": "nWC0T8nbxXZZ"
      },
      "source": [
        "stckmodel.compile(optimizer='adam',loss='mean_squared_error')"
      ],
      "execution_count": null,
      "outputs": []
    },
    {
      "cell_type": "markdown",
      "metadata": {
        "id": "f5CO8OluxwLx"
      },
      "source": [
        "Training the model"
      ]
    },
    {
      "cell_type": "code",
      "metadata": {
        "id": "NCtDfEe6xxyT"
      },
      "source": [
        "stckmodel.fit(x_train,y_train,batch_size=1,epochs=1)"
      ],
      "execution_count": null,
      "outputs": []
    },
    {
      "cell_type": "markdown",
      "metadata": {
        "id": "xaJy7FOBynav"
      },
      "source": [
        "Creating testing dataset\r\n",
        "\\\\Creating a new array containing normalized values from index 1666 to 2003\r\n",
        "\r\n",
        "\r\n"
      ]
    },
    {
      "cell_type": "code",
      "metadata": {
        "id": "cHQ1H422ywwf"
      },
      "source": [
        "test_data=scaled_data[training_data_len -60:,:]\r\n",
        "#Creating the datasets x_test and y_test\r\n",
        "x_test=[]\r\n",
        "y_test=ds[training_data_len:,:]\r\n",
        "for i in range(60,len(test_data)):\r\n",
        "  x_test.append(test_data[i-60:i,0])"
      ],
      "execution_count": null,
      "outputs": []
    },
    {
      "cell_type": "markdown",
      "metadata": {
        "id": "FbMUg_Hb0mJT"
      },
      "source": [
        "Converting the data into numpy array"
      ]
    },
    {
      "cell_type": "code",
      "metadata": {
        "id": "6-Yy1HaR0onr"
      },
      "source": [
        "x_test=np.array(x_test)"
      ],
      "execution_count": null,
      "outputs": []
    },
    {
      "cell_type": "markdown",
      "metadata": {
        "id": "2r9bJpHM0wt5"
      },
      "source": [
        "Reshaping the data"
      ]
    },
    {
      "cell_type": "code",
      "metadata": {
        "id": "_g_JBSSm0y7H"
      },
      "source": [
        "x_test=np.reshape(x_test,(x_test.shape[0],x_test.shape[1],1))"
      ],
      "execution_count": null,
      "outputs": []
    },
    {
      "cell_type": "markdown",
      "metadata": {
        "id": "Yi2zthyv1Jai"
      },
      "source": [
        "Getting the models predicted price values"
      ]
    },
    {
      "cell_type": "code",
      "metadata": {
        "id": "_p9VFBeO1Sxq"
      },
      "source": [
        "pred=stckmodel.predict(x_test)\r\n",
        "pred=sclr.inverse_transform(pred)"
      ],
      "execution_count": null,
      "outputs": []
    },
    {
      "cell_type": "markdown",
      "metadata": {
        "id": "hdqHu6uB1_vn"
      },
      "source": [
        "Getting the RMSE(root mean square error)"
      ]
    },
    {
      "cell_type": "code",
      "metadata": {
        "colab": {
          "base_uri": "https://localhost:8080/"
        },
        "id": "YLCtzrw82FGm",
        "outputId": "108b2124-79f2-471a-8fd8-7fb420d957ee"
      },
      "source": [
        "rmse = np.sqrt(((pred - y_test) ** 2).mean())\r\n",
        "rmse"
      ],
      "execution_count": null,
      "outputs": [
        {
          "output_type": "execute_result",
          "data": {
            "text/plain": [
              "8.639257460759273"
            ]
          },
          "metadata": {
            "tags": []
          },
          "execution_count": 75
        }
      ]
    },
    {
      "cell_type": "markdown",
      "metadata": {
        "id": "WbgOQ1E72vfb"
      },
      "source": [
        "Plotting the data"
      ]
    },
    {
      "cell_type": "code",
      "metadata": {
        "id": "ZetEqXqX2xJb"
      },
      "source": [
        "train=data[:training_data_len]\r\n",
        "valid=data[training_data_len:]\r\n",
        "valid['pred']=pred\r\n",
        "#Visualizing the data\r\n",
        "plt.figure(figsize=(16,8))\r\n",
        "plt.title('Model')\r\n",
        "plt.xlabel('Date',fontsize=18)\r\n",
        "plt.ylabel('Close Price USD ($)',fontsize=18)\r\n",
        "plt.plot(train['Close'])\r\n",
        "plt.plot(valid[['Close','pred']])\r\n",
        "plt.legend(['Train','Val','Pred'],loc='lower right')\r\n",
        "plt.show"
      ],
      "execution_count": null,
      "outputs": []
    },
    {
      "cell_type": "markdown",
      "metadata": {
        "id": "kO7VnPTT5pdH"
      },
      "source": [
        "Showing the actual and predicted prices"
      ]
    },
    {
      "cell_type": "code",
      "metadata": {
        "id": "iGKVVzuq5sR7"
      },
      "source": [
        "valid"
      ],
      "execution_count": null,
      "outputs": []
    },
    {
      "cell_type": "markdown",
      "metadata": {
        "id": "-IoMh3Cm6FFE"
      },
      "source": [
        "Getting the quote"
      ]
    },
    {
      "cell_type": "code",
      "metadata": {
        "colab": {
          "base_uri": "https://localhost:8080/"
        },
        "id": "SKfgYXTo6IqL",
        "outputId": "b436f844-7304-4577-c38a-2a1c655ec1b0"
      },
      "source": [
        "df=web.DataReader('FB',data_source='yahoo',start='2012-01-01',end='2020-12-12')\r\n",
        "#creating new dataframe\r\n",
        "df1=df.filter(['Close'])\r\n",
        "#Getting last 60days closing price value and convert the dataframe into an array\r\n",
        "last_60=df1[-60:].values\r\n",
        "#normalizing the data to be values between 0 and 1\r\n",
        "last_60_norm=sclr.transform(last_60)\r\n",
        "#creating empty list\r\n",
        "X_test=[]\r\n",
        "#Appending past 60 days\r\n",
        "X_test.append(last_60_norm)\r\n",
        "#Convert X_test dataset to numpy array\r\n",
        "X_test=np.array(X_test)\r\n",
        "#Reshaping the data\r\n",
        "X_test=np.reshape(X_test,(X_test.shape[0],X_test.shape[1],1))\r\n",
        "#Getting the predicted normalized price\r\n",
        "pred_price=stckmodel.predict(X_test)\r\n",
        "#Undo scaling\r\n",
        "pred_price=sclr.inverse_transform(pred_price)\r\n",
        "print(pred_price)"
      ],
      "execution_count": null,
      "outputs": [
        {
          "output_type": "stream",
          "text": [
            "[[276.8357]]\n"
          ],
          "name": "stdout"
        }
      ]
    }
  ]
}